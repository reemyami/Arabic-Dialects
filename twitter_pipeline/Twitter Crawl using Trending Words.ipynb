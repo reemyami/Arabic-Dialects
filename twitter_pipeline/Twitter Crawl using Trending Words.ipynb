{
 "cells": [
  {
   "cell_type": "code",
   "execution_count": null,
   "id": "clear-maple",
   "metadata": {},
   "outputs": [],
   "source": [
    "import tweepy\n",
    "import csv\n",
    "from datetime import datetime\n",
    "\n",
    "import time\n",
    "start_time = time.time()"
   ]
  },
  {
   "cell_type": "code",
   "execution_count": null,
   "id": "experienced-position",
   "metadata": {},
   "outputs": [],
   "source": [
    "#Add your keys\n",
    "consumer_key = ''\n",
    "consumer_secret = ''\n",
    "access_token = ''\n",
    "access_token_secret = ''\n"
   ]
  },
  {
   "cell_type": "code",
   "execution_count": null,
   "id": "distinguished-douglas",
   "metadata": {},
   "outputs": [],
   "source": [
    "auth = tweepy.OAuthHandler(consumer_key, consumer_secret)\n",
    "auth.set_access_token(access_token, access_token_secret)\n",
    "api = tweepy.API(auth,wait_on_rate_limit=True )\n"
   ]
  },
  {
   "cell_type": "code",
   "execution_count": null,
   "id": "pending-hunter",
   "metadata": {},
   "outputs": [],
   "source": [
    "#Utilize the date for naming \n",
    "datestring = datetime.strftime(datetime.now(), '%Y_%m_%d')\n",
    "\n",
    "\n",
    "csvFile = open('tweet_'+datestring+'.csv', 'w', encoding=\"utf8\")\n",
    "\n",
    "\n",
    "csvWriter = csv.writer(csvFile)\n"
   ]
  },
  {
   "cell_type": "code",
   "execution_count": null,
   "id": "smooth-presence",
   "metadata": {},
   "outputs": [],
   "source": [
    "#define the country name in the empty string to utilise it's trends as key words\n",
    "country = ''\n",
    "File = open(country+'_trends_'+datestring+'.csv', 'r', encoding=\"utf8\")\n",
    "Reader = csv.reader(File)\n",
    "trends = list(Reader)"
   ]
  },
  {
   "cell_type": "code",
   "execution_count": null,
   "id": "55366d91",
   "metadata": {},
   "outputs": [],
   "source": [
    "print(len(trends))"
   ]
  },
  {
   "cell_type": "markdown",
   "id": "8087113f",
   "metadata": {},
   "source": [
    "Define the geo-coordinates from any online tool. <br>\n",
    "The utilized website in this work is [Link](https://www.freemaptools.com/radius-around-point.htm). <br>\n",
    "The geo-coordinates for the selected Countries in this work can be found [here](https://github.com/reemalyami/Arabic-Dialects/blob/main/Data/countries_geo_coordinates.csv)"
   ]
  },
  {
   "cell_type": "code",
   "execution_count": null,
   "id": "mobile-universe",
   "metadata": {},
   "outputs": [],
   "source": [
    "ids = set()\n",
    "\n",
    "for word in trends: \n",
    "    key = word[3]\n",
    "    print(key)\n",
    "  \n",
    "    print(\"Print before Pulling Tweets\")\n",
    "    \n",
    "#Define the geo-code that corresponds to the targeted country by replacing XXXX in geocode\n",
    "#Also, define the diameter for which you are planning to collect \n",
    "\n",
    "    for tweet in tweepy.Cursor(api.search, q=key, lang=\"ar\", tweet_mode=\"extended\",\n",
    "                               geocode='XXXXX,XXXXX,XXXX km').items(10000):\n",
    "        if (not tweet.retweeted) and ('RT @' not in tweet.full_text):\n",
    "            print (tweet.created_at, tweet.full_text)\n",
    "            csvWriter.writerow([tweet.created_at, tweet.id,tweet.full_text, tweet.user.screen_name])\n",
    "            ids.add(tweet.id) # add new id\n",
    "            print (\"number of unique ids seen so far: {}\",format(len(ids)))\n",
    "            print(\"print inside loop\")\n",
    "    print (\"My program is running for:----------\", ((time.time() - start_time)/60), \"----------\")            "
   ]
  },
  {
   "cell_type": "code",
   "execution_count": null,
   "id": "reflected-husband",
   "metadata": {},
   "outputs": [],
   "source": [
    "File.close()\n",
    "csvFile.close()\n",
    "\n",
    "print(\"Print After Pulling Tweets\")\n",
    "print (\"My program took\", (((time.time() - start_time)/60)/60), \"Hours to run\")\n"
   ]
  }
 ],
 "metadata": {
  "kernelspec": {
   "display_name": "Python 3 (ipykernel)",
   "language": "python",
   "name": "python3"
  },
  "language_info": {
   "codemirror_mode": {
    "name": "ipython",
    "version": 3
   },
   "file_extension": ".py",
   "mimetype": "text/x-python",
   "name": "python",
   "nbconvert_exporter": "python",
   "pygments_lexer": "ipython3",
   "version": "3.9.7"
  }
 },
 "nbformat": 4,
 "nbformat_minor": 5
}
